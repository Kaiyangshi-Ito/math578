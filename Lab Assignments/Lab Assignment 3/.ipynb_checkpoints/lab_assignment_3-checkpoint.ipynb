{
 "cells": [
  {
   "cell_type": "markdown",
   "metadata": {},
   "source": [
    "# MATH 578 Lab Assignment 3 <a class=\"tocSkip\">\n",
    "\n",
    "\n",
    "***Kai Yang***\n",
    "\n",
    "Original assignment problems are put in *italic fonts*, my text answers are put in **bold fonts**. For both parts, the functions written are in the constructed classes. \n",
    "\n",
    "Another interesting thing to note is that, to run the entire thing on GPU, simply use `cupy` instead of `numpy` -- but for the purpose of the assignment, we will stay with `numpy`. The installed `numpy` version at time of completion of this assignment is `1.19.2`.\n",
    "\n",
    "**All computational functions are consisted in the following class `lab3`.**"
   ]
  },
  {
   "cell_type": "code",
   "execution_count": 1,
   "metadata": {
    "ExecuteTime": {
     "end_time": "2020-11-17T21:56:16.448277Z",
     "start_time": "2020-11-17T21:56:16.445944Z"
    }
   },
   "outputs": [],
   "source": [
    "class lab3:\n",
    "    pass"
   ]
  },
  {
   "cell_type": "markdown",
   "metadata": {},
   "source": [
    "## Problem 1 \n",
    "*Implement forward and backward Euler methods (for vector valued functions), where the backward Euler code uses Newton's iteration as a nonlinear solver. In each step of the backward Euler, start the Newton iteration with the initial guess given by a step of the forward Euler method, and stop the Newton iteration when the distance between two successive iterates falls within some specified tolerance (e.g., equal to $10^{-6}$ ).*"
   ]
  },
  {
   "cell_type": "markdown",
   "metadata": {},
   "source": [
    "## Problem 2 \n",
    "*Use both the forward and backward Euler methods on the three model problems $y^\\prime= \\lambda y$, $y(0) = 1$ where (i) $\\lambda = -23$, (ii) $\\lambda = 1$ and also (iii) $$y^{\\prime}=\\left(\\begin{array}{cc}\n",
    "-1 & 0\\\\\n",
    "0 & -100\n",
    "\\end{array}\\right)y,\\ y\\left(0\\right)=\\left(\\begin{array}{c}\n",
    "1\\\\\n",
    "1\n",
    "\\end{array}\\right).$$ using time steps $h = 0.1, 0.05, 0.02, 0.01, 0.005,\\dots$. For each method for each program:*\n",
    "\n",
    "*(a). Plot a graph of $\\log\\left\\Vert y(t_{n})-y_{n}\\right\\Vert$ against $\\log h$, at the fixed time $t=2$ where $n$ satisfies $n h=2$, that is we are computing many numerical solutions, each for a different fixed step-size $h$, for $t \\in \\left[0, 2\\right]$ and comparing the error between the exact and numerical solution at the final time as a function of $h$. Explain the results.*\n",
    "\n",
    "*(b). To compare the performance of the methods more fairly, we should consider the extra work required when computing with the backward Euler method. So, repeat the first part, but this time plot $\\log\\left\\Vert y(t_{n})-y_{n}\\right\\Vert$ against $N$ where $N$ is the total number of function evaluations in the integration. For the forward Euler method $N = n$, but for the backward Euler method it will be the total number of Newton iteration in the first $n$ steps. Which method is most efficient for $h$ small? Is there a difference for $h$ large?*\n",
    "\n",
    "*(c). For one fixed $h$ plot graphs of $\\log\\left\\Vert y(t_{n})-y_{n}\\right\\Vert$ against $t_n$. Ensure that the interval of time integration is sufficiently long to see the qualitative difference in the behaviour between cases (i) and (ii). Explain this difference. Which method performs best? Does changing $h$ change the relative differences between the methods? Plot the over-imposed graphs of the computed solutions and the exact solution (for case (iii) one can separate the components of $y$ to get 2-D plots).*"
   ]
  },
  {
   "cell_type": "markdown",
   "metadata": {},
   "source": [
    "## Problem 3 \n",
    "*Using the forward Euler code as a template, implement Runge's second order method $$\\begin{array}{c|cc}\n",
    "0\\\\\n",
    "\\frac{1}{2} & \\frac{1}{2}\\\\\n",
    "\\hline  & 0 & 1\n",
    "\\end{array}$$ and the four stage method (sometimes called \"The Runge-Kutta method\"): $$\\begin{array}{c|cccc}\n",
    "0\\\\\n",
    "\\frac{1}{2} & \\frac{1}{2}\\\\\n",
    "\\frac{1}{2} & 0 & \\frac{1}{2}\\\\\n",
    "1 & 0 & 0 & 1\\\\\n",
    "\\hline  & \\frac{1}{6} & \\frac{1}{3} & \\frac{1}{3} & \\frac{1}{6}\n",
    "\\end{array}$$ Compare the performance of these methods with the forward and backward Euler methods on the three differential equations considered in the previous exercise (use the same comparisons as in (a), (b) and (c) from that exercise).*"
   ]
  },
  {
   "cell_type": "markdown",
   "metadata": {},
   "source": [
    "## Problem 4 \n",
    "*In this exercise, we will study the motion of the five outer planets relative to the sun using different numerical integrators. The necessary data is given in file `outer.txt`. In the data file the units are chosen so that the sun has mass 1, the distances are in astronomical units (1a.u.$=149,597,870$km), and times in earth days. The sun and the inner planets are to be collectively treated as one object. When you copy and run `outer.txt` in Python, the data will be loaded to three variables `g`, `m`, and `x`; where `g` holds the value of the universal gravitational constant, `m` is an array consisting of the masses of the $6$ objects, and `x` is an array with initial positions and velocities of the objects, corresponding to September 5, 1994 at UTC 0:00. Further comments can be found in the file `outer.txt`.* \n",
    "\n",
    "*Implement the following numerical integrators and use them to study the gravitational 6 body problem with the data given in `outer.txt`. For each of the following cases, run the simulation for at least one to few thousand years (in simulated time of course), and describe what happens to the planets during the simulations. Adjust the stepsize of the method and the simulation time accordingly. Comment on the performance of the methods.* \n",
    "\n",
    "*(a) Explicit Euler with stepsize $10$ days*\n",
    "\n",
    "*(b) Implicit Euler with stepsize $10$ days*\n",
    "\n",
    "*(c) Your favorite Runge-Kutta method of order at least $2$, with stepsize $30$ days*\n",
    "\n",
    "*(d) Symplectic Euler with stepsize $100$ days*\n",
    "\n",
    "*(e) Stormer-Verlet with stepsize $200$ days*\n"
   ]
  },
  {
   "cell_type": "code",
   "execution_count": null,
   "metadata": {},
   "outputs": [],
   "source": []
  }
 ],
 "metadata": {
  "author": "mes",
  "kernelspec": {
   "display_name": "Python 3",
   "language": "python",
   "name": "python3"
  },
  "language_info": {
   "codemirror_mode": {
    "name": "ipython",
    "version": 3
   },
   "file_extension": ".py",
   "mimetype": "text/x-python",
   "name": "python",
   "nbconvert_exporter": "python",
   "pygments_lexer": "ipython3",
   "version": "3.7.9"
  },
  "latex_envs": {
   "LaTeX_envs_menu_present": true,
   "autoclose": false,
   "autocomplete": true,
   "bibliofile": "biblio.bib",
   "cite_by": "apalike",
   "current_citInitial": 1,
   "eqLabelWithNumbers": true,
   "eqNumInitial": 1,
   "hotkeys": {
    "equation": "Ctrl-E",
    "itemize": "Ctrl-I"
   },
   "labels_anchors": false,
   "latex_user_defs": false,
   "report_style_numbering": false,
   "user_envs_cfg": false
  },
  "toc": {
   "base_numbering": 1,
   "nav_menu": {},
   "number_sections": true,
   "sideBar": true,
   "skip_h1_title": false,
   "title_cell": "Table of Contents",
   "title_sidebar": "Contents",
   "toc_cell": false,
   "toc_position": {},
   "toc_section_display": true,
   "toc_window_display": false
  },
  "varInspector": {
   "cols": {
    "lenName": 16,
    "lenType": 16,
    "lenVar": 40
   },
   "kernels_config": {
    "python": {
     "delete_cmd_postfix": "",
     "delete_cmd_prefix": "del ",
     "library": "var_list.py",
     "varRefreshCmd": "print(var_dic_list())"
    },
    "r": {
     "delete_cmd_postfix": ") ",
     "delete_cmd_prefix": "rm(",
     "library": "var_list.r",
     "varRefreshCmd": "cat(var_dic_list()) "
    }
   },
   "types_to_exclude": [
    "module",
    "function",
    "builtin_function_or_method",
    "instance",
    "_Feature"
   ],
   "window_display": false
  }
 },
 "nbformat": 4,
 "nbformat_minor": 4
}
