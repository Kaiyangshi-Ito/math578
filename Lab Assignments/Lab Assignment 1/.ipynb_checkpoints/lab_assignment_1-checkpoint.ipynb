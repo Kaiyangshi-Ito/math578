{
 "cells": [
  {
   "cell_type": "markdown",
   "metadata": {},
   "source": [
    "# MATH 578 Lab Assignment 1, Fall 2020 <a class=\"tocSkip\">\n",
    "\n",
    "\n",
    "***Kai Yang***\n",
    "\n",
    "Original assignment problems are put in *italic fonts*, my text answers are put in **bold fonts**. For both parts, the functions written are in the constructed classes. \n",
    "\n",
    "Another interesting thing to note is that, to run the entire thing on GPU, simply use `cupy` instead of `numpy` -- but for the purpose of the assignment, we will stay with `numpy`. "
   ]
  },
  {
   "cell_type": "code",
   "execution_count": 1,
   "metadata": {
    "ExecuteTime": {
     "end_time": "2020-10-19T05:29:13.796041Z",
     "start_time": "2020-10-19T05:29:12.948462Z"
    }
   },
   "outputs": [],
   "source": [
    "import numpy as np\n",
    "from sklearn.linear_model import LinearRegression\n",
    "from matplotlib import pyplot as plt"
   ]
  },
  {
   "cell_type": "markdown",
   "metadata": {},
   "source": [
    "# PART 1\n",
    "*In this exercise, we will do an experimental study of the growth factor for Gaussian elimination with partial pivoting. Given the factorization $PA = LU$, deﬁne the growth factor by \n",
    "$$g\\left(A\\right)=\\frac{\\max_{i,j}\\left|u_{ij}\\right|}{\\max_{i,j}\\left|a_{ij}\\right|}$$\n",
    "where $u_{ij}$ and $a_{ij}$ are the elements of $U$ and $A$, respectively.*\n",
    "\n",
    "**All codes for functions to answer problems in Part 1 are included in the following class `part1`.**"
   ]
  },
  {
   "cell_type": "code",
   "execution_count": 2,
   "metadata": {
    "ExecuteTime": {
     "end_time": "2020-10-19T05:29:13.829880Z",
     "start_time": "2020-10-19T05:29:13.797605Z"
    }
   },
   "outputs": [],
   "source": [
    "class part1:\n",
    "    '''\n",
    "    A class serves for part 1... it basically performs Gaussian elimination with partial pivoting for square matrices.\n",
    "    '''\n",
    "    \n",
    "    def __init__(self, n, mu=0., sigma=1.):\n",
    "        '''\n",
    "        Constructor for the class, with arguments: \n",
    "            n:          int scalar; size of the matrix to be generated \n",
    "            mu:         float scalar; mean value for the Gaussian r.v.; by default it will be 0 \n",
    "            sigma:      float scalar; standard deviation for the Gaussian r.v.; by default it will be 1 \n",
    "        '''\n",
    "        self.n = n\n",
    "        self.mu = mu\n",
    "        self.sigma = sigma\n",
    "    \n",
    "    def generate_mat(self): \n",
    "        '''\n",
    "        (Problem 2) Function to generate a n by n matrix whose entries are i.i.d. Gaussian r.v. with mean self.mu and standard deviation self.sigma. \n",
    "        '''\n",
    "        self.A = np.random.normal(loc=self.mu, scale=self.sigma, size=(self.n, self.n))\n",
    "        return self.A\n",
    "    \n",
    "    def PLU(self):\n",
    "        '''\n",
    "        (Problem 3) Perform Gaussian elimination with partial pivoting.\n",
    "        '''\n",
    "        self.generate_mat()\n",
    "        self.U = self.A.copy()\n",
    "        for k in np.arange(self.n-1):\n",
    "            pp_ind = np.argmax(np.abs(self.U[k:,k]))+k # find the index of row to swap with the current row k\n",
    "            self.U[[k, pp_ind]] = self.U[[pp_ind, k]] # partial pivoting step\n",
    "            mulitplier = self.U[k+1:,k]/self.U[k,k] # calculate the multiplier\n",
    "            ge_mat = np.outer(mulitplier, self.U[k,k+1:]) # calculate the change matrix\n",
    "            self.U[k+1:,k] = 0 # note that calculation of mulitplier in above two lines already suggests that the element elimination by subtracting the change matrix, we therefore do not repeat calculation for computational efficiency and numerical accuracy\n",
    "            self.U[k+1:,k+1:] -= ge_mat # perform Gaussian elimination\n",
    "        return self.U\n",
    "    \n",
    "    def growth(self):\n",
    "        '''\n",
    "        (Problem 4) Calculate growth factor.\n",
    "        '''\n",
    "        self.PLU()\n",
    "        self.u = np.max(np.abs(self.U))\n",
    "        self.a = np.max(np.abs(self.A))\n",
    "        self.growth = self.u/self.a\n",
    "        return self.growth\n",
    "        "
   ]
  },
  {
   "cell_type": "markdown",
   "metadata": {},
   "source": [
    "## Problem 1\n",
    "*A relevant paper is L.N. Trefethen and R.S. Schreiber. Average-case stability of Gaussian elimination. Please read this paper in suﬃcient detail to understand the main points.*\n",
    "\n",
    "**A paper using numerical studies to illustrate the stability of Gaussian elimination with partial/full pivoting. Main points are summarized in the conclusion section.**"
   ]
  },
  {
   "cell_type": "markdown",
   "metadata": {},
   "source": [
    "## Problem 2 \n",
    "*Write a function that takes $n$ as its parameter and generates an $n \\times n$ matrix, whose entries are random numbers with a normal distribution. Pick the parameters ($\\mu$ and $\\sigma$) at your convenience.*\n",
    "\n",
    "**See above class `part1` for codes. The function for this problem is `part1.generate_mat`. My choice of (default values) are $\\mu=0,\\sigma=1$.**"
   ]
  },
  {
   "cell_type": "markdown",
   "metadata": {},
   "source": [
    "## Problem 3\n",
    "*Implement Gaussian elimination with partial pivoting, and test it on a number of cases to be sure of its correctness.*\n",
    "\n",
    "**See above class `part1` for codes. The function for this problem is `part1.PLU`. To test its correctness, we choose to generate $8$ matrices whose $n=80,90,\\dots,150$, and check whether (i). the determinant absolute values of $A$ and $U$ are numerical close (with relative tolerance being $10^{-5}$ and absolute tolerance being $10^{-8}$, from default `numpy.isclose` parameter settings).**\n",
    "\n",
    "**The reason we choose to check the determinant absolute value is that, partial pivoting might change the determinant sign due to row interchanges, and Gaussian elimination will not change the determinant. Then it is a convenient way to check detect possible incorrectness of the implemented algorithm.**"
   ]
  },
  {
   "cell_type": "code",
   "execution_count": 3,
   "metadata": {
    "ExecuteTime": {
     "end_time": "2020-10-19T05:29:13.896145Z",
     "start_time": "2020-10-19T05:29:13.832338Z"
    }
   },
   "outputs": [
    {
     "name": "stdout",
     "output_type": "stream",
     "text": [
      "Now n=80, the determinant absolute values for A and U are numerically close: True; and U is an upper diagonal matrix: True.\n",
      "Now n=90, the determinant absolute values for A and U are numerically close: True; and U is an upper diagonal matrix: True.\n",
      "Now n=100, the determinant absolute values for A and U are numerically close: True; and U is an upper diagonal matrix: True.\n",
      "Now n=110, the determinant absolute values for A and U are numerically close: True; and U is an upper diagonal matrix: True.\n",
      "Now n=120, the determinant absolute values for A and U are numerically close: True; and U is an upper diagonal matrix: True.\n",
      "Now n=130, the determinant absolute values for A and U are numerically close: True; and U is an upper diagonal matrix: True.\n",
      "Now n=140, the determinant absolute values for A and U are numerically close: True; and U is an upper diagonal matrix: True.\n",
      "Now n=150, the determinant absolute values for A and U are numerically close: True; and U is an upper diagonal matrix: True.\n"
     ]
    }
   ],
   "source": [
    "np.random.seed(578) # set a seed\n",
    "for n in np.arange(8, 16)*10:\n",
    "    x = np.random.rand(n)\n",
    "    p3 = part1(n)\n",
    "    p3.PLU()\n",
    "    initial_det = np.linalg.det(p3.A) # calculate determinant of the original generated matrix using numpy function\n",
    "    PLU_det = np.prod(np.diagonal(p3.U)) # calculate determinant of U yielded by our Gaussian elimination with partial pivoting\n",
    "    print(\"Now n=\", n, \", the determinant absolute values for A and U are numerically close: \", np.isclose(np.abs(initial_det), np.abs(PLU_det)), \"; and U is an upper diagonal matrix: \", (np.tril(p3.U, -1)==0).all(),\".\", sep=\"\")\n"
   ]
  },
  {
   "cell_type": "markdown",
   "metadata": {
    "ExecuteTime": {
     "end_time": "2020-09-29T05:30:03.875778Z",
     "start_time": "2020-09-29T05:30:03.874017Z"
    }
   },
   "source": [
    "## Problem 4\n",
    "*Plot the growth factor against the matrix size, in logarithmic scale, where the matrices are generated as in Step 2. The sample of matrices should be large enough to be a good representative of random matrices with $n$ ranging between, say $10$ and $1000$ (larger sizes are welcome, if it does not take too long). In particular, for each $n$, one should experiment on a generous number of matrices. From the experimental plot, estimate the power $\\alpha$ in the assumed dependence $g\\approx c n^\\alpha$, where $g$ is the growth factor, $n$ is the matrix size, and $c$ is a constant. Compare this with the worst case scenario $g\\approx 2^n$.*\n",
    "\n",
    "**We performed $30$ experiments for each $n$, and plotted the scatter plot together with OLS fitted line (orange line marked with \"PLU\"). The power $\\alpha$ has estimation of $\\hat{\\alpha}\\approx\\frac{2}{3}$ (the second entry from the reported fitted line coefficients below, i.e., \"slope\") -- this verifies the conclusion from the paper. Since `sklearn` does not report standard error, we would not bother calculating the s.e. here, rather, the plot (on the left) suggests the linear fit is reasonable. Worst-case scenario is plotted as the green line marked with \"worst-case\" in the plot on the right. We can see that the our growth factor grows much slower by $n$, which is much better than the worst-case scenario.**"
   ]
  },
  {
   "cell_type": "code",
   "execution_count": 4,
   "metadata": {
    "ExecuteTime": {
     "end_time": "2020-10-19T05:29:18.648736Z",
     "start_time": "2020-10-19T05:29:13.898693Z"
    }
   },
   "outputs": [
    {
     "name": "stdout",
     "output_type": "stream",
     "text": [
      "The coefficients for the fitted line (intercept, slope) are:\n",
      " [-1.63208442  0.67937794]\n"
     ]
    },
    {
     "data": {
      "image/png": "[encoded data removed]",
      "text/plain": [
       "<Figure size 432x288 with 2 Axes>"
      ]
     },
     "metadata": {
      "needs_background": "light"
     },
     "output_type": "display_data"
    }
   ],
   "source": [
    "np.seterr(divide = 'ignore') # turn off numpy runtime warning for now\n",
    "n_array = np.arange(10, 101)\n",
    "n_array = np.repeat(n_array, 30)\n",
    "growth = np.empty_like(n_array)\n",
    "for i in np.arange(len(n_array)):\n",
    "    p4 = part1(n_array[i])\n",
    "    p4.growth()\n",
    "    growth[i] = p4.growth\n",
    "\n",
    "n_array = np.log(n_array) # log transformation of n\n",
    "growth = np.log(growth) # log transformation of growth factors\n",
    "# numerical errors might result in NaN or inf values, remove them before fitting a line\n",
    "nan_or_inf = np.logical_or(np.isnan(growth), np.isinf(growth))\n",
    "n_array = n_array[np.logical_not(nan_or_inf)]\n",
    "growth = growth[np.logical_not(nan_or_inf)]\n",
    "\n",
    "X = np.ones_like(n_array) # add the column for intercept to the design matrix\n",
    "X = np.concatenate((X.reshape(-1, 1), n_array.reshape(-1, 1)), axis=1)\n",
    "fit1 = LinearRegression(fit_intercept=False).fit(X, growth) # fit an OLS line\n",
    "print(\"The coefficients for the fitted line (intercept, slope) are:\\n\", fit1.coef_) # print coefficients for the fitted line\n",
    "\n",
    "np.seterr(divide = 'warn') # turn numpy runtime warning back on \n",
    "\n",
    "fig, axs = plt.subplots(1, 2)\n",
    "axs[0].plot(n_array, growth, '.') #scatter plot\n",
    "axs[0].plot(n_array, fit1.coef_[0]+fit1.coef_[1]*n_array, \"-\", label=\"PLU\") # plot fitted line for PLU\n",
    "axs[0].set(xlabel=r\"$\\log(n)$\", ylabel=r\"$\\log(g)$\")\n",
    "axs[1].plot(n_array, growth, '.') #scatter plot\n",
    "axs[1].plot(n_array, fit1.coef_[0]+fit1.coef_[1]*n_array, \"-\", label=\"PLU\") # plot fitted line for PLU\n",
    "axs[1].plot(n_array, np.log(2)*np.exp(n_array), \"--\", label=\"worst-case\") # plot fitted line for worst-case\n",
    "axs[1].set(xlabel=r\"$\\log(n)$\")\n",
    "plt.legend(loc='center right', bbox_to_anchor=(1.8, .5), ncol=1, fancybox=True, shadow=True) # add a legend\n",
    "plt.show()"
   ]
  },
  {
   "cell_type": "markdown",
   "metadata": {
    "ExecuteTime": {
     "end_time": "2020-09-29T05:30:11.960371Z",
     "start_time": "2020-09-29T05:30:11.958708Z"
    }
   },
   "source": [
    "## Problem 5\n",
    "*Now we study the probability distribution of the growth factor for a ﬁxed $n$. Fix $n$, say $n = 10$ or $n = 16$, and generate an abundant number of random matrices, as in Step 2, to measure their growth factors. Then by subdividing the value-space of the growth factors into small subintervals of equal length, and by counting the number of matrices with growth factor lying in each of those subintervals, produce an approximation of the probability density function of the growth factor (the usual ”histogram” technique). Plot it against the growth factor value, with the vertical axis in logarithmic scale. Make a conjecture on how the probability density decays as the growth factor becomes large. Note that the number of matrices and the length of the subintervals should be so that most of the subintervals individually contain a large number of matrices, and that there are enough subintervals to give a meaningful approximation of the probability density function (i.e., the width of bars in the histogram must be small, but most of the bars must still include a large number of cases). Repeat the experiment for several values of $n$, say $n = 20, 40, 80$, or $n = 32, 64, 128$.*\n",
    "\n",
    "**We generated $5000$ matrices for each $n$, and set the number of bins to be $50$. The histograms below have y axis being the frequency, plotted on a log scale; and x axis being the growth factor g. From the plots, we can observe that as growth factor becomes large, the pdf will decay slower than it decays as the growth factor approaches $0$; i.e., the r.v. has a heavier right tail. Together with the shape of the pdf, we make an educated guess that the growth factor might be a log-normal r.v. -- we made this guess for two extra reasons, that its support is non-negative, and that the r.v. seems to always have heavier right tail.**"
   ]
  },
  {
   "cell_type": "code",
   "execution_count": 5,
   "metadata": {
    "ExecuteTime": {
     "end_time": "2020-10-19T05:29:55.627967Z",
     "start_time": "2020-10-19T05:29:18.650396Z"
    },
    "code_folding": []
   },
   "outputs": [
    {
     "data": {
      "image/png": "[encoded data removed]",
      "text/plain": [
       "<Figure size 432x288 with 4 Axes>"
      ]
     },
     "metadata": {
      "needs_background": "light"
     },
     "output_type": "display_data"
    }
   ],
   "source": [
    "def growth_rv(n):\n",
    "    '''\n",
    "    Calculate growth factor for n by n matrix for 5000 times.\n",
    "    '''\n",
    "    growth_rv = np.empty(5000)\n",
    "    for i in np.arange(5000):\n",
    "        np.random.seed(i) # set a seed\n",
    "        p5 = part1(n)\n",
    "        p5.growth()\n",
    "        growth_rv[i] = p5.growth\n",
    "    return growth_rv\n",
    "\n",
    "fig, axs = plt.subplots(2, 2)\n",
    "\n",
    "axs[0,0].hist(growth_rv(16), bins=50)\n",
    "axs[0,0].set()\n",
    "axs[0,0].set_title(r\"$n=16$\")\n",
    "axs[0,1].hist(growth_rv(32), bins=50)\n",
    "axs[0,1].set_title(r\"$n=32$\")\n",
    "axs[1,0].hist(growth_rv(64), bins=50)\n",
    "axs[1,0].set_title(r\"$n=64$\")\n",
    "axs[1,1].hist(growth_rv(128), bins=50)\n",
    "axs[1,1].set_title(r\"$n=128$\")\n",
    "\n",
    "# set labels\n",
    "for ax in axs.flat:\n",
    "    ax.set_yscale('log')\n",
    "    ax.set(xlim = [0, 15], ylim = [1, 800], xlabel=r\"$g$\", ylabel=\"freq.\")\n",
    "# organize the plots\n",
    "for ax in axs.flat:\n",
    "    ax.label_outer()\n",
    "\n",
    "plt.show()"
   ]
  },
  {
   "cell_type": "markdown",
   "metadata": {},
   "source": [
    "# PART 2\n",
    "*Let $A$ be the $1000\\times 1000$ tridiagonal symmetric matrix with $1, 2, . . . , 1000$ on the diagonal and $1$ on the sub- and super-diagonals, and let $b = \\left(1, 1,\\dots , 1\\right)^T$.*\n",
    "\n",
    "**All codes for functions to answer problems in Part 2 are included in the following class `part2`.**\n",
    "\n",
    "**Based on first-order optimality condition, to use gradient descent or conjugate gradient solve the linear system is equivalent to solve convex minimization problem $$\\min_{x\\in\\mathbb{R}^{1000}}\\frac{1}{2}x^TAx-x^Tb$$ which has gradient $$\\nabla_{x}\\left(\\frac{1}{2}x^TAx-x^Tb\\right)=Ax-b$$ and the gradient is an affine function, which is Lipschitz continuous with Lipschitz constant $$L=\\lambda_{\\max}\\left(A\\right)$$ Coming from optimization background, I tend to call steepest descent \"gradient descent\" -- please note this when looking at this part.**"
   ]
  },
  {
   "cell_type": "code",
   "execution_count": 6,
   "metadata": {
    "ExecuteTime": {
     "end_time": "2020-10-19T05:29:55.688764Z",
     "start_time": "2020-10-19T05:29:55.630192Z"
    }
   },
   "outputs": [],
   "source": [
    "A = np.zeros((1000, 1000))\n",
    "np.fill_diagonal(A, np.arange(1,1001)) # fill diagonal values\n",
    "np.fill_diagonal(A[:,1:], 1) # fill super-diagonal values\n",
    "np.fill_diagonal(A[1:], 1) # fill sub-diagonal values\n",
    "\n",
    "class part2:\n",
    "    '''\n",
    "    A class serves for part 2... It basically performs a given number steps of gradient descent or conjugate gradient for the given function above, with starting point being 0.\n",
    "    '''\n",
    "    \n",
    "    def __init__(self, A, b, num_iter=1000):\n",
    "        '''\n",
    "        A:        floating point matrix; used for linear system Ax=b\n",
    "        b:        floating point vector; used for linear system Ax=b\n",
    "        num_iter: int scalar; number of iterations for the algorithm to run, with default value 1000\n",
    "        '''\n",
    "        self.A = A\n",
    "        self.b = b\n",
    "        self.num_iter = num_iter\n",
    "        self.x0 = np.zeros(A.shape[1]) # the starting point is 0\n",
    "        self.CG_computed_r, self.CG_actual_r, self.gd_r = np.zeros(num_iter+1), np.zeros(num_iter+1), np.zeros(num_iter+1)\n",
    "        self.CG_computed_r[0], self.CG_actual_r[0], self.gd_r[0] = [np.linalg.norm(b, 2)]*3\n",
    "        # the LOG VALUE of residual norms estimate is calculated below; log value is used to improve numerical stability\n",
    "        self.kappa = np.linalg.cond(self.A)\n",
    "        self.kappa_frac_log = np.log(np.sqrt(self.kappa)-1) - np.log(np.sqrt(self.kappa)+1)\n",
    "        self.est = np.arange(self.num_iter+1)\n",
    "        self.est = self.kappa_frac_log*self.est + np.log(2)\n",
    "        \n",
    "    \n",
    "    def eval_grad(self):\n",
    "        '''\n",
    "        Evaluate gradient for the current values of self.x.\n",
    "        '''\n",
    "        self.grad = self.A@self.x-self.b\n",
    "        \n",
    "    def vanilla_grad(self):\n",
    "        '''\n",
    "        Perform gradient descent with starting point self.x0 and step size 1/L for the objective mentioned above.\n",
    "        '''\n",
    "        self.x = self.x0 # initialize self.x within functions s.t. it's possible to perform gradient descent and CG for one class\n",
    "        self.eval_grad()\n",
    "        L = np.max(np.linalg.eigvals(self.A)) # set Lipschitz constant to be local to our function because it's useless for CG\n",
    "        for k in np.arange(1, self.num_iter+1):\n",
    "            self.x -= self.grad/L # take step size 1/L\n",
    "            self.eval_grad()\n",
    "            self.gd_r[k] = np.linalg.norm(self.grad) # note the residual concides with the gradient\n",
    "        return self.x\n",
    "        \n",
    "    def CG(self):\n",
    "        '''\n",
    "        Perform conjugate gradient for linear system Ax=b.\n",
    "        '''\n",
    "        self.x = self.x0\n",
    "        self.eval_grad()\n",
    "        r = -self.grad\n",
    "        p = r.copy()\n",
    "        for k in np.arange(1, self.num_iter+1):\n",
    "            alpha = (r.T@r)/(p.T@self.A@p)\n",
    "            self.x += alpha*p\n",
    "            r_temp = r.copy()\n",
    "            r -= alpha*self.A@p\n",
    "            beta = (r.T@r)/(r_temp.T@r_temp)\n",
    "            p = r + beta*p\n",
    "            self.CG_computed_r[k] = np.linalg.norm(r)\n",
    "            self.eval_grad()\n",
    "            self.CG_actual_r[k] = np.linalg.norm(self.grad)\n",
    "        return self.x\n"
   ]
  },
  {
   "cell_type": "markdown",
   "metadata": {},
   "source": [
    "## Problem 1\n",
    "*Write a code that performs $1000$ (or more) steps of the steepest descent iteration to approximately solve $Ax = b$.*\n",
    "\n",
    "**See above class `part2` for codes. The function for this problem is `part2.vanilla_grad`.**"
   ]
  },
  {
   "cell_type": "markdown",
   "metadata": {
    "ExecuteTime": {
     "end_time": "2020-09-29T05:31:03.734261Z",
     "start_time": "2020-09-29T05:31:03.732418Z"
    }
   },
   "source": [
    "## Problem 2\n",
    "*Write a code that performs $1000$ steps of the CG to approximately solve $Ax = b$.*\n",
    "\n",
    "**See above class `part2` for codes. The function for this problem is `part2.CG`.**"
   ]
  },
  {
   "cell_type": "markdown",
   "metadata": {
    "ExecuteTime": {
     "end_time": "2020-09-29T05:31:07.584675Z",
     "start_time": "2020-09-29T05:31:07.582389Z"
    }
   },
   "source": [
    "## Problem 3\n",
    "*Produce a plot with four curves on it:*\n",
    "\n",
    "- *the computed residual norms $\\left\\Vert r_{i}\\right\\Vert _{2}$ for CG,*\n",
    "- *the actual residual norms $\\left\\Vert b-Ax_{i}\\right\\Vert _{2}$ for CG,*\n",
    "- *the residual norms $\\left\\Vert r_{i}\\right\\Vert _{2}$ for steepest descent, and*\n",
    "- *the estimate $\\frac{2\\left(\\sqrt{\\kappa}-1\\right)^{i}}{\\left(\\sqrt{\\kappa}+1\\right)^{i}}$, where $\\kappa=\\left\\Vert A\\right\\Vert \\left\\Vert A^{-1}\\right\\Vert $ is the $2$-norm condition number of $A$ (which can be estimated by `NumPy` function `linalg.cond`), and $i$ is the iteration number that is to be on the horizontal axis of the plot.*\n",
    "\n",
    "*Choose logarithmic scale for the vertical axis if appropriate.*\n",
    "\n",
    "**We used $\\log$ scale for vertical axis and plotted the four lines below.**"
   ]
  },
  {
   "cell_type": "code",
   "execution_count": 7,
   "metadata": {
    "ExecuteTime": {
     "end_time": "2020-10-19T05:29:57.635327Z",
     "start_time": "2020-10-19T05:29:55.691046Z"
    }
   },
   "outputs": [
    {
     "data": {
      "image/png": "[encoded data removed]",
      "text/plain": [
       "<Figure size 432x288 with 1 Axes>"
      ]
     },
     "metadata": {
      "needs_background": "light"
     },
     "output_type": "display_data"
    }
   ],
   "source": [
    "p3 = part2(A=A, b=np.ones(1000))\n",
    "p3.vanilla_grad()\n",
    "p3.CG()\n",
    "\n",
    "plt.plot(np.log(p3.CG_computed_r), label=\"CG computed residual norms\")\n",
    "plt.plot(np.log(p3.CG_actual_r), label=\"CG actual residual norms\")\n",
    "plt.plot(np.log(p3.gd_r), label=\"gradient descent residual norms\")\n",
    "plt.plot(p3.est, label=\"estimate using condition number\") # recall that for numerical stability, we actually calculated the log value of estimate instead of the estiamte itself back then \n",
    "plt.xlabel(r\"number of iterations $k$\")\n",
    "plt.ylabel(r\"$\\log$ value of residual norms\")\n",
    "plt.title(r\"$\\log$ Value of Residual Norms for Conjugate Gradient and Steepest Descent\")\n",
    "plt.legend()\n",
    "\n",
    "plt.show()"
   ]
  },
  {
   "cell_type": "markdown",
   "metadata": {
    "ExecuteTime": {
     "end_time": "2020-09-29T05:31:12.093598Z",
     "start_time": "2020-09-29T05:31:12.091688Z"
    }
   },
   "source": [
    "## Problem 4\n",
    "*Comment on your results.*\n",
    "\n",
    "- **$\\log$ value of residual norms is plotted for better visualization;**\n",
    "- **For rate of convergence of optimization algorithm itself, recall that CG converges faster than gradient descent *in theory* -- we can more or less observe that here: at the beginning part of the trajectory, the actual residual norms for CG(orange line) descents faster than gradient descent(green line);**\n",
    "- **For numerical stability comparison, CG is much more numerically stable than gradient descent: note that the orange line is much lower than the green line. Steepest descent is not very numerical stable for linear systems -- especially for our problem here;**\n",
    "- **Specifically for CG, note that the computed residual norms is actually more numerical stable than the \"actual norms\" calculated by taking $\\ell_2$ norm of $Ax-b$ using `numpy.linalg.norm`.**"
   ]
  },
  {
   "cell_type": "code",
   "execution_count": null,
   "metadata": {},
   "outputs": [],
   "source": []
  }
 ],
 "metadata": {
  "author": "mes",
  "kernelspec": {
   "display_name": "Python 3",
   "language": "python",
   "name": "python3"
  },
  "language_info": {
   "codemirror_mode": {
    "name": "ipython",
    "version": 3
   },
   "file_extension": ".py",
   "mimetype": "text/x-python",
   "name": "python",
   "nbconvert_exporter": "python",
   "pygments_lexer": "ipython3",
   "version": "3.7.9"
  },
  "latex_envs": {
   "LaTeX_envs_menu_present": true,
   "autoclose": false,
   "autocomplete": true,
   "bibliofile": "biblio.bib",
   "cite_by": "apalike",
   "current_citInitial": 1,
   "eqLabelWithNumbers": true,
   "eqNumInitial": 1,
   "hotkeys": {
    "equation": "Ctrl-E",
    "itemize": "Ctrl-I"
   },
   "labels_anchors": false,
   "latex_user_defs": false,
   "report_style_numbering": false,
   "user_envs_cfg": false
  },
  "toc": {
   "base_numbering": 1,
   "nav_menu": {},
   "number_sections": true,
   "sideBar": true,
   "skip_h1_title": false,
   "title_cell": "Table of Contents",
   "title_sidebar": "Contents",
   "toc_cell": false,
   "toc_position": {},
   "toc_section_display": true,
   "toc_window_display": false
  },
  "varInspector": {
   "cols": {
    "lenName": 16,
    "lenType": 16,
    "lenVar": 40
   },
   "kernels_config": {
    "python": {
     "delete_cmd_postfix": "",
     "delete_cmd_prefix": "del ",
     "library": "var_list.py",
     "varRefreshCmd": "print(var_dic_list())"
    },
    "r": {
     "delete_cmd_postfix": ") ",
     "delete_cmd_prefix": "rm(",
     "library": "var_list.r",
     "varRefreshCmd": "cat(var_dic_list()) "
    }
   },
   "types_to_exclude": [
    "module",
    "function",
    "builtin_function_or_method",
    "instance",
    "_Feature"
   ],
   "window_display": false
  }
 },
 "nbformat": 4,
 "nbformat_minor": 4
}
