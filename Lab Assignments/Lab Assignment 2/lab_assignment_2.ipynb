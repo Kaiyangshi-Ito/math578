{
 "cells": [
  {
   "cell_type": "markdown",
   "metadata": {},
   "source": [
    "# MATH 578 Lab Assignment 2 <a class=\"tocSkip\">\n",
    "\n",
    "\n",
    "***Kai Yang***\n",
    "\n",
    "Original assignment problems are put in *italic fonts*, my text answers are put in **bold fonts**. For both parts, the functions written are in the constructed classes. \n",
    "\n",
    "Another interesting thing to note is that, to run the entire thing on GPU, simply use `cupy` instead of `numpy` -- but for the purpose of the assignment, we will stay with `numpy`. \n",
    "\n",
    "**All computational functions are consisted in the following class `lab2`, where we assume the matrix to be operated on $A\\in\\mathbb{C}^{n\\times m}$.**"
   ]
  },
  {
   "cell_type": "code",
   "execution_count": 1,
   "metadata": {
    "ExecuteTime": {
     "end_time": "2020-11-02T19:40:46.043903Z",
     "start_time": "2020-11-02T19:40:44.420847Z"
    }
   },
   "outputs": [],
   "source": [
    "import numpy as np\n",
    "from sklearn.linear_model import LinearRegression\n",
    "from matplotlib import pyplot as plt\n",
    "import timeit\n",
    "\n",
    "class lab2:\n",
    "    '''\n",
    "    Class consisting of all the functions carrying out computation in this assignment. \n",
    "    '''\n",
    "    def __init__(self):\n",
    "        '''\n",
    "        Construct the class with the following values:\n",
    "        self.n, self.m: the target matrix is a n*m matrix\n",
    "        '''\n",
    "        self.n, self.m = 0, 0 # initialize values for n, m \n",
    "    \n",
    "    def QR(self, A):\n",
    "        '''\n",
    "        (for problem 1) Perform QR factorization on matrix A using Householder reflections. A post-processing step is included to ensure nonnegativeness of the diagonal entries for R. \n",
    "        '''\n",
    "        self.n, self.m = A.shape[-2:] # A is a n by m matrix\n",
    "        for k in np.arange(np.min([self.n, self.m])):\n",
    "            v = A[k:,k].copy()\n",
    "            v[0] -= np.linalg.norm(v)\n",
    "            v /= np.linalg.norm(v) # normalize v\n",
    "            print(v.shape)\n",
    "            print(A[k:,k:].shape)\n",
    "            A[k:,k:] -= np.outer(2*v, v.T.conj()@A[k:,k:])\n",
    "        return A\n",
    "    \n",
    "    def gen_orth_mat(self, n):\n",
    "        '''\n",
    "        (for problem 2) Generate a random orthogonal matrix using QR factorization method:\n",
    "        n:              dimension of the matrix to be generated\n",
    "        '''\n",
    "        pass\n",
    "    \n",
    "    def Hessenberg(self):\n",
    "        '''\n",
    "        (for problem 3) Reduce matrix to Hessenberg form by orthogonal transformations. \n",
    "        '''\n",
    "        pass\n",
    "    \n",
    "    def QR_shift(self, shift=\"none\"):\n",
    "        '''\n",
    "        (for problem 4) Perform QR factorization with: i). no shift; ii). Rayleigh quotient shift; iii). Wilkinson shift\n",
    "        shift:          string, choose between \"none\", \"Rayleigh\", or \"Wilkinson\"; default value is \"none\"\n",
    "        '''\n",
    "        if shift == \"none\":\n",
    "            pass\n",
    "        \n",
    "        elif shift == \"Rayleigh\":\n",
    "            pass\n",
    "        \n",
    "        elif shift == \"Wilkinson\":\n",
    "            pass\n",
    "        \n",
    "        else:\n",
    "            print('Choose shift from \"none\", \"Rayleigh\", and \"Wilkinson\".')\n",
    "    \n",
    "    def gen_sym_mat(self, eig_val, seed):\n",
    "        '''\n",
    "        (for problem 5) Generate symmetric matrix with a given set of eigenvalues:\n",
    "        eig_val:        floating point numpy array; the vector of eigenvalues for the matrix to be generated\n",
    "        seed:           random seed to set\n",
    "        '''\n",
    "        pass\n",
    "    \n",
    "    def tri_diag(self):\n",
    "        '''\n",
    "        ... is it a good idea to separate this or should this be included with last function? \n",
    "        '''\n",
    "    "
   ]
  },
  {
   "cell_type": "code",
   "execution_count": 2,
   "metadata": {
    "ExecuteTime": {
     "end_time": "2020-11-02T19:40:46.049663Z",
     "start_time": "2020-11-02T19:40:46.045482Z"
    }
   },
   "outputs": [
    {
     "name": "stdout",
     "output_type": "stream",
     "text": [
      "[0.31328504+0.24439438j 0.85906585+0.23015823j 0.88821189+0.68021105j]\n",
      "1.4833915573728857\n"
     ]
    }
   ],
   "source": [
    "a = np.random.rand(3) + 1j*np.random.rand(3)\n",
    "print(a)\n",
    "print(np.linalg.norm(a))"
   ]
  },
  {
   "cell_type": "markdown",
   "metadata": {},
   "source": [
    "## Problem 1 \n",
    "\n",
    "*Implement a function that computes a QR factorization of a given $n\\times n$ matrix. You can use either Householder reﬂections or Givens rotations. Do a post-processing to make sure that the diagonal entries of the triangular factor $R$ are nonnegative (This requirement makes the factorization unique). Test it on a number of cases to be sure of its correctness.*\n",
    "\n",
    "**As suggested by Trefethen et al. [1], a reflection far from the original point should be picked to ensure numerical stability. However, here we are to ensure the diagonal entries to be nonnegative, so we choose to reflect directly to the nonnegative real semi-axis.The resulting function can be found as `lab2.QR` from above codes.**"
   ]
  },
  {
   "cell_type": "code",
   "execution_count": 3,
   "metadata": {
    "ExecuteTime": {
     "end_time": "2020-11-02T19:40:46.058908Z",
     "start_time": "2020-11-02T19:40:46.051833Z"
    }
   },
   "outputs": [
    {
     "name": "stdout",
     "output_type": "stream",
     "text": [
      "(4,)\n",
      "(4, 2)\n",
      "(3,)\n",
      "(3, 1)\n",
      "[[ 90.61858877 -3.92408752j  94.89047344+38.56352648j]\n",
      " [ -0.37039874 +2.2256304j    9.43245035-36.87658199j]\n",
      " [ -2.51970559 +1.68057544j -27.14725417 +9.15274393j]\n",
      " [ -2.29432047 +2.5566741j  -14.05384139 -6.32591638j]]\n",
      "(5,)\n",
      "(5, 3)\n",
      "(4,)\n",
      "(4, 2)\n",
      "(3,)\n",
      "(3, 1)\n",
      "[[ 1.04871366e+02 -0.4059332j   8.74409424e+01 -0.81219018j\n",
      "   7.75481849e+01+20.18897423j]\n",
      " [-2.14534442e-01 +0.18400346j  4.38763689e+01-25.64395446j\n",
      "  -2.53213439e+01-13.99495576j]\n",
      " [-1.28944235e-01 +0.31001421j -1.50820915e+01 -4.04330873j\n",
      "   5.74856529e+01 -1.60550998j]\n",
      " [-1.60746694e-01 +0.11467078j  2.28904428e+00 -7.79844926j\n",
      "  -6.94005519e-01 +0.2546393j ]\n",
      " [-2.74953652e-01 +0.03200755j -1.04722540e+01+18.79353024j\n",
      "   2.00405536e-02 -1.05653834j]]\n",
      "(6,)\n",
      "(6, 4)\n",
      "(5,)\n",
      "(5, 3)\n",
      "(4,)\n",
      "(4, 2)\n",
      "(3,)\n",
      "(3, 1)\n",
      "[[116.24446335-8.01383738e+00j 103.55405211+4.49010419e+01j\n",
      "   80.96006477-2.61475659e+01j  64.33718682+5.21961065e+01j]\n",
      " [ -0.19474671+3.45253860e+00j  80.14066951-4.18910931e+01j\n",
      "   29.45343658-3.10582374e+01j  44.42565051-6.29942011e+00j]\n",
      " [ -1.71490758+4.57615571e-01j -16.56453967+1.83844167e+01j\n",
      "   26.90925002-5.01619294e+01j  56.70705692+5.99518161e-01j]\n",
      " [ -1.53154019+5.98632298e+00j  -9.77997762-2.33172120e+00j\n",
      "  -12.35288394-3.29575496e+00j  38.80606413-3.17729781e+00j]\n",
      " [ -6.11804828+2.82436659e+00j   8.62311175+5.27409646e+00j\n",
      "    0.89465869+2.31848400e+01j   0.49591872+1.64844583e+00j]\n",
      " [ -0.74808963+6.31962943e+00j -12.97813954-2.18040827e+01j\n",
      "  -10.94914025-5.77441290e+00j   1.1422704 -1.42234756e-02j]]\n"
     ]
    }
   ],
   "source": [
    "lab = lab2()\n",
    "for i in np.arange(2,5):\n",
    "    A = np.random.rand(i+2,i) + 1j*np.random.rand(i+2,i)\n",
    "    A *= 60\n",
    "    print(lab.QR(A))"
   ]
  },
  {
   "cell_type": "markdown",
   "metadata": {},
   "source": [
    "## Problem 2 \n",
    "\n",
    "*Write a function that generates random orthogonal matrices. This can be done by ﬁrst generating a random matrix $A$, say, with normally distributed entries, and then taking the $Q$-factor of its QR factorization with nonpositive entries on the diagonal of $R$.*\n",
    "\n",
    "**Answer**"
   ]
  },
  {
   "cell_type": "markdown",
   "metadata": {},
   "source": [
    "## Problem 3 \n",
    "\n",
    "*By modifying your QR factorization code, implement a function that reduces a given $n\\times n$ matrix into a Hessenberg form by orthogonal transformations. Implement also a function that turns a given real symmetric matrix into a tridiagonal form. You may want to add a line that forces the output matrix to be exactly symmetric and tridiagonal. Test the functions on a number of cases.*\n",
    "\n",
    "**Answer**"
   ]
  },
  {
   "cell_type": "markdown",
   "metadata": {},
   "source": [
    "## Problem 4 \n",
    "\n",
    "*Write a code that performs the QR algorithm on a given real symmetric tridiagonal matrix. Produce 3 versions: no shift (i.e., basic QR), the Rayleigh quotient shift, and the Wilkinson shift. For greater eﬃciency, you may want to modify your QR factorization code so that it takes advantage of the tridiagonality (and perhaps symmetry as well). You may also wish to enforce exact symmetry and tridiagonality at each step of the QR algorithm.*\n",
    "\n",
    "**Answer**"
   ]
  },
  {
   "cell_type": "markdown",
   "metadata": {},
   "source": [
    "## Problem 5 \n",
    "\n",
    "*Generate a symmetric random matrix with a given set of eigenvalues as $A = Q^T\\Lambda Q$, where $Q$ is a random orthogonal matrix, and $\\Lambda$ is a diagonal matrix (for example, take $\\Lambda = \\text{diag}\\left(1, 2, . . . , 10\\right)$). Please set a ﬁxed seed for the random number generator for reproducibility. Reduce $A$ to a tridiagonal form, and run the QR algorithm on it, by using the functions you implemented. Pick several of the eigenvalues that represent variety of possibilities (that is, one small eigenvalue, one mid-sized eigenvalue, etc.), including the largest eigenvalue, and plot the corresponding errors (in log-scale) against the iteration number. Moreover, plot the size (in log-scale) of the oﬀ-diagonal entries that are close to the position of the chosen eigenvalues against the iteration number. Do this for all 3 versions of the QR algorithm. Comment on your results.*\n",
    "\n",
    "**Answer**"
   ]
  },
  {
   "cell_type": "markdown",
   "metadata": {},
   "source": [
    "## Problem 6 \n",
    "\n",
    "*Repeat the previous exercise to experiment with interesting situations such as negative eigenvalues, multiple eigenvalues, clustered eigenvalues, singular matrices, extremely small eigenvalues, extremely large eigenvalues, etc.*\n",
    "\n",
    "**Answer**"
   ]
  },
  {
   "cell_type": "markdown",
   "metadata": {},
   "source": [
    "## Problem 7 \n",
    "\n",
    "*Now set things up so that the last row and column of $A$ is removed and the QR algorithm is recursively applied to the “cropped” matrix once the last oﬀ-diagonal entry is small enough (say, $\\left|A_{n,n-1}\\right|<10^{-10}$). This way, all eigenvalues can supposedly be computed quickly. Plot $\\left|A_{n,n-1}\\right|$ as well as the error of the corresponding eigenvalue (that is, $\\left|\\lambda_n - A_{n,n-1}\\right|$) against the iteration number. Note that the variable n here takes diﬀerent values in diﬀerent stages as the matrix is cropped to become smaller and smaller. Use a log-log scale for the vertical axis. Do this for all 3 versions of the QR algorithm. Experiment with some interesting combinations of eigenvalues. Comment on your results.*\n",
    "\n",
    "**Answer**"
   ]
  },
  {
   "cell_type": "markdown",
   "metadata": {},
   "source": [
    "## References\n",
    "\n",
    "[1]. Trefethen, L. N., Bau, D. (1997). *Numerical Linear Algebra*. SIAM. ISBN: 0898713617\n"
   ]
  },
  {
   "cell_type": "code",
   "execution_count": null,
   "metadata": {},
   "outputs": [],
   "source": []
  }
 ],
 "metadata": {
  "author": "mes m",
  "kernelspec": {
   "display_name": "Python 3",
   "language": "python",
   "name": "python3"
  },
  "language_info": {
   "codemirror_mode": {
    "name": "ipython",
    "version": 3
   },
   "file_extension": ".py",
   "mimetype": "text/x-python",
   "name": "python",
   "nbconvert_exporter": "python",
   "pygments_lexer": "ipython3",
   "version": "3.7.9"
  },
  "latex_envs": {
   "LaTeX_envs_menu_present": true,
   "autoclose": false,
   "autocomplete": true,
   "bibliofile": "biblio.bib",
   "cite_by": "apalike",
   "current_citInitial": 1,
   "eqLabelWithNumbers": true,
   "eqNumInitial": 1,
   "hotkeys": {
    "equation": "Ctrl-E",
    "itemize": "Ctrl-I"
   },
   "labels_anchors": false,
   "latex_user_defs": false,
   "report_style_numbering": false,
   "user_envs_cfg": false
  },
  "toc": {
   "base_numbering": 1,
   "nav_menu": {},
   "number_sections": true,
   "sideBar": true,
   "skip_h1_title": false,
   "title_cell": "Table of Contents",
   "title_sidebar": "Contents",
   "toc_cell": false,
   "toc_position": {},
   "toc_section_display": true,
   "toc_window_display": false
  },
  "varInspector": {
   "cols": {
    "lenName": 16,
    "lenType": 16,
    "lenVar": 40
   },
   "kernels_config": {
    "python": {
     "delete_cmd_postfix": "",
     "delete_cmd_prefix": "del ",
     "library": "var_list.py",
     "varRefreshCmd": "print(var_dic_list())"
    },
    "r": {
     "delete_cmd_postfix": ") ",
     "delete_cmd_prefix": "rm(",
     "library": "var_list.r",
     "varRefreshCmd": "cat(var_dic_list()) "
    }
   },
   "types_to_exclude": [
    "module",
    "function",
    "builtin_function_or_method",
    "instance",
    "_Feature"
   ],
   "window_display": false
  }
 },
 "nbformat": 4,
 "nbformat_minor": 4
}
